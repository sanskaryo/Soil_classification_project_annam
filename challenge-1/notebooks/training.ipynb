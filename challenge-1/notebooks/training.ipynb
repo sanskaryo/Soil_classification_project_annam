{
 "cells": [
  {
   "cell_type": "markdown",
   "id": "4261911c",
   "metadata": {},
   "source": [
    " Import Libraries"
   ]
  },
  {
   "cell_type": "code",
   "execution_count": null,
   "id": "b0216699",
   "metadata": {
    "scrolled": true
   },
   "outputs": [],
   "source": [
    "import torch\n",
    "import torch.nn as nn\n",
    "import torch.optim as optim\n",
    "from torchvision import transforms, models\n",
    "from torch.utils.data import DataLoader, Dataset, random_split\n",
    "from sklearn.metrics import f1_score\n",
    "import pandas as pd\n",
    "from PIL import Image\n",
    "from tqdm import tqdm\n",
    "import os\n"
   ]
  },
  {
   "cell_type": "markdown",
   "id": "4f0cba76",
   "metadata": {},
   "source": [
    "Define Paths and Configuration"
   ]
  },
  {
   "cell_type": "code",
   "execution_count": null,
   "id": "6514b847",
   "metadata": {},
   "outputs": [],
   "source": [
    "DATA_DIR = \"../data/train\"\n",
    "TEST_DIR = \"../data/test\"\n",
    "TRAIN_LABELS_CSV = \"../data/train_labels.csv\"\n",
    "TEST_IDS_CSV = \"../data/test_ids.csv\"\n",
    "BATCH_SIZE = 32\n",
    "NUM_CLASSES = 4\n",
    "DEVICE = torch.device(\"cuda\" if torch.cuda.is_available() else \"cpu\")\n",
    "EPOCHS = 10\n",
    "LEARNING_RATE = 1e-4\n",
    "CLASSES = ['Alluvial soil', 'Black Soil', 'Clay soil', 'Red soil']\n",
    "label2idx = {label: idx for idx, label in enumerate(CLASSES)}\n"
   ]
  },
  {
   "cell_type": "markdown",
   "id": "95f00367",
   "metadata": {},
   "source": [
    "Define Image Transformations"
   ]
  },
  {
   "cell_type": "code",
   "execution_count": null,
   "id": "a0296e75",
   "metadata": {},
   "outputs": [],
   "source": [
    "train_transform = transforms.Compose([\n",
    "    transforms.Resize((224, 224)),\n",
    "    transforms.RandomHorizontalFlip(),\n",
    "    transforms.RandomRotation(10),\n",
    "    transforms.ToTensor(),\n",
    "    transforms.Normalize([0.485, 0.456, 0.406],\n",
    "                         [0.229, 0.224, 0.225])\n",
    "])\n",
    "\n",
    "val_transform = transforms.Compose([\n",
    "    transforms.Resize((224, 224)),\n",
    "    transforms.ToTensor(),\n",
    "    transforms.Normalize([0.485, 0.456, 0.406],\n",
    "                         [0.229, 0.224, 0.225])\n",
    "])\n",
    "\n",
    "test_transform = val_transform\n"
   ]
  },
  {
   "cell_type": "markdown",
   "id": "38328e4a",
   "metadata": {},
   "source": [
    "Create Custom Dataset Classes"
   ]
  },
  {
   "cell_type": "code",
   "execution_count": null,
   "id": "73978262",
   "metadata": {},
   "outputs": [],
   "source": [
    "class SoilDataset(Dataset):\n",
    "    def __init__(self, img_dir, labels_csv, transform=None):\n",
    "        self.img_dir = img_dir\n",
    "        self.labels_df = pd.read_csv(labels_csv).sample(frac=1, random_state=42).reset_index(drop=True)\n",
    "        self.transform = transform\n",
    "        self.labels_df['label_idx'] = self.labels_df['soil_type'].map(label2idx)\n",
    "\n",
    "    def __len__(self):\n",
    "        return len(self.labels_df)\n",
    "\n",
    "    def __getitem__(self, idx):\n",
    "        img_name = self.labels_df.iloc[idx]['image_id']\n",
    "        label = self.labels_df.iloc[idx]['label_idx']\n",
    "        img_path = os.path.join(self.img_dir, img_name)\n",
    "        image = Image.open(img_path).convert('RGB')\n",
    "        if self.transform:\n",
    "            image = self.transform(image)\n",
    "        return image, label\n"
   ]
  },
  {
   "cell_type": "markdown",
   "id": "db06b5e7",
   "metadata": {},
   "source": [
    "Load and Split Dataset"
   ]
  },
  {
   "cell_type": "code",
   "execution_count": null,
   "id": "51428654",
   "metadata": {},
   "outputs": [],
   "source": [
    "full_dataset = SoilDataset(DATA_DIR, TRAIN_LABELS_CSV, transform=train_transform)\n",
    "val_size = int(0.2 * len(full_dataset))\n",
    "train_size = len(full_dataset) - val_size\n",
    "train_dataset, val_dataset = random_split(full_dataset, [train_size, val_size])\n",
    "val_dataset.dataset.transform = val_transform\n",
    "train_loader = DataLoader(train_dataset, batch_size=BATCH_SIZE, shuffle=True)\n",
    "val_loader = DataLoader(val_dataset, batch_size=BATCH_SIZE, shuffle=False)\n"
   ]
  },
  {
   "cell_type": "markdown",
   "id": "773fab56",
   "metadata": {},
   "source": [
    "Define Model, Loss, and Optimizer"
   ]
  },
  {
   "cell_type": "code",
   "execution_count": null,
   "id": "bab37765",
   "metadata": {},
   "outputs": [
    {
     "name": "stderr",
     "output_type": "stream",
     "text": [
      "C:\\ProgramData\\anaconda3\\Lib\\site-packages\\torchvision\\models\\_utils.py:208: UserWarning: The parameter 'pretrained' is deprecated since 0.13 and may be removed in the future, please use 'weights' instead.\n",
      "  warnings.warn(\n",
      "C:\\ProgramData\\anaconda3\\Lib\\site-packages\\torchvision\\models\\_utils.py:223: UserWarning: Arguments other than a weight enum or `None` for 'weights' are deprecated since 0.13 and may be removed in the future. The current behavior is equivalent to passing `weights=ResNet18_Weights.IMAGENET1K_V1`. You can also use `weights=ResNet18_Weights.DEFAULT` to get the most up-to-date weights.\n",
      "  warnings.warn(msg)\n"
     ]
    }
   ],
   "source": [
    "model = models.resnet18(pretrained=True)\n",
    "model.fc = nn.Linear(model.fc.in_features, NUM_CLASSES)\n",
    "model = model.to(DEVICE)\n",
    "\n",
    "criterion = nn.CrossEntropyLoss()\n",
    "optimizer = optim.Adam(model.parameters(), lr=LEARNING_RATE)\n"
   ]
  },
  {
   "cell_type": "markdown",
   "id": "a65b24ba",
   "metadata": {},
   "source": [
    "Define Training and Validation Functions"
   ]
  },
  {
   "cell_type": "code",
   "execution_count": null,
   "id": "2268f312",
   "metadata": {},
   "outputs": [],
   "source": [
    "def train_one_epoch(model, loader, criterion, optimizer, device):\n",
    "    model.train()\n",
    "    running_loss = 0.0\n",
    "    all_preds, all_labels = [], []\n",
    "\n",
    "    for inputs, labels in tqdm(loader, desc=\"Training\", leave=False):\n",
    "        inputs, labels = inputs.to(device), labels.to(device)\n",
    "        optimizer.zero_grad()\n",
    "        outputs = model(inputs)\n",
    "        loss = criterion(outputs, labels)\n",
    "        loss.backward()\n",
    "        optimizer.step()\n",
    "\n",
    "        running_loss += loss.item() * inputs.size(0)\n",
    "        all_preds.extend(torch.argmax(outputs, dim=1).cpu().numpy())\n",
    "        all_labels.extend(labels.cpu().numpy())\n",
    "\n",
    "    return running_loss / len(loader.dataset), f1_score(all_labels, all_preds, average='macro')\n",
    "\n",
    "def validate(model, loader, criterion, device):\n",
    "    model.eval()\n",
    "    running_loss = 0.0\n",
    "    all_preds, all_labels = [], []\n",
    "\n",
    "    with torch.no_grad():\n",
    "        for inputs, labels in tqdm(loader, desc=\"Validating\", leave=False):\n",
    "            inputs, labels = inputs.to(device), labels.to(device)\n",
    "            outputs = model(inputs)\n",
    "            loss = criterion(outputs, labels)\n",
    "            running_loss += loss.item() * inputs.size(0)\n",
    "            all_preds.extend(torch.argmax(outputs, dim=1).cpu().numpy())\n",
    "            all_labels.extend(labels.cpu().numpy())\n",
    "\n",
    "    return (running_loss / len(loader.dataset),\n",
    "            f1_score(all_labels, all_preds, average='macro'),\n",
    "            f1_score(all_labels, all_preds, average=None))\n"
   ]
  },
  {
   "cell_type": "markdown",
   "id": "11c0fa6a",
   "metadata": {},
   "source": [
    "Train the Model"
   ]
  },
  {
   "cell_type": "code",
   "execution_count": null,
   "id": "b34d9339",
   "metadata": {},
   "outputs": [],
   "source": [
    "best_min_class_f1 = 0\n",
    "\n",
    "for epoch in range(EPOCHS):\n",
    "    train_loss, train_f1 = train_one_epoch(model, train_loader, criterion, optimizer, DEVICE)\n",
    "    val_loss, val_f1, val_class_f1 = validate(model, val_loader, criterion, DEVICE)\n",
    "\n",
    "    min_class_f1 = val_class_f1.min()\n",
    "\n",
    "    print(f\"Epoch {epoch+1}/{EPOCHS}\")\n",
    "    print(f\"Train Loss: {train_loss:.4f}, Train F1: {train_f1:.4f}\")\n",
    "    print(f\"Val Loss: {val_loss:.4f}, Val Macro F1: {val_f1:.4f}\")\n",
    "    print(f\"Per-Class F1: {val_class_f1}\")\n",
    "    print(f\"Min Class F1: {min_class_f1:.4f}\")\n",
    "\n",
    "    if min_class_f1 > best_min_class_f1:\n",
    "        best_min_class_f1 = min_class_f1\n",
    "        torch.save(model.state_dict(), \"best_model.pth\")\n",
    "        print(\"Best model saved!\")\n"
   ]
  },
  {
   "cell_type": "markdown",
   "id": "d4afe244",
   "metadata": {},
   "source": [
    "Load Best Model"
   ]
  },
  {
   "cell_type": "code",
   "execution_count": null,
   "id": "f2c43ccb",
   "metadata": {},
   "outputs": [],
   "source": [
    "model.load_state_dict(torch.load(\"models/best_model.pth\"))\n",
    "model.eval()\n"
   ]
  },
  {
   "cell_type": "markdown",
   "id": "86b45cc8",
   "metadata": {},
   "source": [
    "Create Test Dataset and DataLoader"
   ]
  },
  {
   "cell_type": "code",
   "execution_count": null,
   "id": "6b07b5b7",
   "metadata": {},
   "outputs": [],
   "source": [
    "class TestSoilDataset(Dataset):\n",
    "    def __init__(self, img_dir, test_ids_csv, transform=None):\n",
    "        self.img_dir = img_dir\n",
    "        self.transform = transform\n",
    "        self.image_ids = pd.read_csv(test_ids_csv)['image_id'].tolist()\n",
    "\n",
    "    def __len__(self):\n",
    "        return len(self.image_ids)\n",
    "\n",
    "    def __getitem__(self, idx):\n",
    "        img_name = self.image_ids[idx]\n",
    "        img_path = os.path.join(self.img_dir, img_name)\n",
    "        image = Image.open(img_path).convert('RGB')\n",
    "        if self.transform:\n",
    "            image = self.transform(image)\n",
    "        return image, img_name\n",
    "\n",
    "test_dataset = TestSoilDataset(TEST_DIR, TEST_IDS_CSV, transform=test_transform)\n",
    "test_loader = DataLoader(test_dataset, batch_size=BATCH_SIZE, shuffle=False)\n"
   ]
  },
  {
   "cell_type": "markdown",
   "id": "9327094a",
   "metadata": {},
   "source": [
    "Make Predictions and Create Submission File"
   ]
  },
  {
   "cell_type": "code",
   "execution_count": null,
   "id": "49304e95",
   "metadata": {},
   "outputs": [],
   "source": [
    "predictions = []\n",
    "with torch.no_grad():\n",
    "    for images, image_ids in tqdm(test_loader, desc=\"Predicting\"):\n",
    "        images = images.to(DEVICE)\n",
    "        outputs = model(images)\n",
    "        _, preds = torch.max(outputs, 1)\n",
    "        preds = preds.cpu().numpy()\n",
    "        for img_id, pred in zip(image_ids, preds):\n",
    "            predictions.append((img_id, CLASSES[pred]))\n",
    "\n",
    "submission_df = pd.DataFrame(predictions, columns=[\"image_id\", \"soil_type\"])\n",
    "submission_df.to_csv(\"submission1.csv\", index=False)\n",
    "print(\"Submission saved to submission1.csv\")\n"
   ]
  }
 ],
 "metadata": {
  "kernelspec": {
   "display_name": "Python 3",
   "language": "python",
   "name": "python3"
  },
  "language_info": {
   "codemirror_mode": {
    "name": "ipython",
    "version": 3
   },
   "file_extension": ".py",
   "mimetype": "text/x-python",
   "name": "python",
   "nbconvert_exporter": "python",
   "pygments_lexer": "ipython3",
   "version": "3.10.0"
  }
 },
 "nbformat": 4,
 "nbformat_minor": 5
}
