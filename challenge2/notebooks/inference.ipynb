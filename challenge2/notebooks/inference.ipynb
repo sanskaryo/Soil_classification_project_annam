{
 "cells": [
  {
   "cell_type": "markdown",
   "id": "bb822670",
   "metadata": {},
   "source": [
    "# 🔍 Inference - Soil Detection Challenge\n",
    "\n",
    "This notebook loads the trained soil classifier and runs inference on the test set provided in `test_ids.csv`.\n",
    "\n",
    "---\n"
   ]
  },
  {
   "cell_type": "code",
   "execution_count": null,
   "id": "ca1f8d3e",
   "metadata": {},
   "outputs": [],
   "source": [
    "import os\n",
    "import torch\n",
    "import pandas as pd\n",
    "import numpy as np\n",
    "from torch.utils.data import DataLoader\n",
    "from torchvision import models\n",
    "\n",
    "from src.preprocessing import TestSoilDataset, get_transforms\n",
    "from src.postprocessing import predict_with_threshold\n"
   ]
  },
  {
   "cell_type": "code",
   "execution_count": null,
   "id": "d7afb3d7",
   "metadata": {},
   "outputs": [],
   "source": [
    "BASE_DIR = './data/soil_competition-2025'\n",
    "TEST_DIR = os.path.join(BASE_DIR, 'test')\n",
    "TEST_CSV = os.path.join(BASE_DIR, 'test.csv')\n",
    "\n",
    "MODEL_PATH = './model_best.pth'\n",
    "OUTPUT_CSV = './submission.csv'\n",
    "\n",
    "test_df = pd.read_csv(TEST_CSV)\n"
   ]
  },
  {
   "cell_type": "code",
   "execution_count": null,
   "id": "73883aa4",
   "metadata": {},
   "outputs": [],
   "source": [
    "_, val_transform = get_transforms()  # Use val_transform for test as well\n",
    "\n",
    "test_dataset = TestSoilDataset(test_df, TEST_DIR, val_transform)\n",
    "test_loader = DataLoader(test_dataset, batch_size=32, shuffle=False, num_workers=2)\n"
   ]
  },
  {
   "cell_type": "code",
   "execution_count": null,
   "id": "21aa34cd",
   "metadata": {},
   "outputs": [],
   "source": [
    "device = torch.device(\"cuda\" if torch.cuda.is_available() else \"cpu\")\n",
    "\n",
    "model = models.resnet18(pretrained=False)\n",
    "model.fc = torch.nn.Sequential(\n",
    "    torch.nn.Linear(model.fc.in_features, 1),\n",
    "    torch.nn.Sigmoid()\n",
    ")\n",
    "model.load_state_dict(torch.load(MODEL_PATH, map_location=device))\n",
    "model = model.to(device)\n",
    "model.eval()\n"
   ]
  },
  {
   "cell_type": "code",
   "execution_count": null,
   "id": "0e803191",
   "metadata": {},
   "outputs": [],
   "source": [
    "all_probs = []\n",
    "\n",
    "with torch.no_grad():\n",
    "    for images in test_loader:\n",
    "        images = images.to(device)\n",
    "        outputs = model(images)\n",
    "        all_probs.extend(outputs.cpu().numpy().flatten())\n",
    "\n",
    "all_probs = np.array(all_probs)\n"
   ]
  },
  {
   "cell_type": "code",
   "execution_count": null,
   "id": "ebcc316b",
   "metadata": {},
   "outputs": [],
   "source": [
    "BEST_THRESHOLD = 0.5  # Use the one from training (you can import or hardcode here)\n",
    "\n",
    "predictions = predict_with_threshold(all_probs, BEST_THRESHOLD)\n",
    "\n",
    "submission_df = pd.DataFrame({\n",
    "    'image': test_df['image'],\n",
    "    'label': predictions\n",
    "})\n",
    "\n",
    "submission_df.to_csv(OUTPUT_CSV, index=False)\n",
    "print(f\"Submission saved to {OUTPUT_CSV}\")\n"
   ]
  },
  {
   "cell_type": "code",
   "execution_count": null,
   "id": "62656427",
   "metadata": {},
   "outputs": [],
   "source": []
  }
 ],
 "metadata": {
  "language_info": {
   "name": "python"
  }
 },
 "nbformat": 4,
 "nbformat_minor": 5
}
