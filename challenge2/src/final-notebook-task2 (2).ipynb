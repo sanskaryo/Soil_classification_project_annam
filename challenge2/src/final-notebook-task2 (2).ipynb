{
 "cells": [
  {
   "cell_type": "code",
   "execution_count": null,
   "metadata": {
    "trusted": true
   },
   "outputs": [],
   "source": []
  },
  {
   "cell_type": "code",
   "execution_count": 7,
   "metadata": {
    "execution": {
     "iopub.execute_input": "2025-05-25T17:56:11.705751Z",
     "iopub.status.busy": "2025-05-25T17:56:11.705417Z",
     "iopub.status.idle": "2025-05-25T17:56:11.710194Z",
     "shell.execute_reply": "2025-05-25T17:56:11.709353Z",
     "shell.execute_reply.started": "2025-05-25T17:56:11.705728Z"
    },
    "trusted": true
   },
   "outputs": [],
   "source": [
    "import os\n",
    "import numpy as np\n",
    "import pandas as pd\n",
    "import torch\n",
    "from torchvision import models, transforms\n",
    "from torch.utils.data import Dataset, DataLoader\n",
    "from PIL import Image\n",
    "from tqdm import tqdm\n",
    "from sklearn.svm import OneClassSVM\n",
    "from sklearn.preprocessing import StandardScaler\n"
   ]
  },
  {
   "cell_type": "code",
   "execution_count": 8,
   "metadata": {
    "execution": {
     "iopub.execute_input": "2025-05-25T17:56:18.818960Z",
     "iopub.status.busy": "2025-05-25T17:56:18.818375Z",
     "iopub.status.idle": "2025-05-25T17:56:18.822589Z",
     "shell.execute_reply": "2025-05-25T17:56:18.821976Z",
     "shell.execute_reply.started": "2025-05-25T17:56:18.818935Z"
    },
    "trusted": true
   },
   "outputs": [],
   "source": [
    "train_csv = '/kaggle/input/soil-classification-part-2/soil_competition-2025/train_labels.csv'\n",
    "test_csv = '/kaggle/input/soil-classification-part-2/soil_competition-2025/test_ids.csv'\n",
    "train_dir = '/kaggle/input/soil-classification-part-2/soil_competition-2025/train'\n",
    "test_dir = '/kaggle/input/soil-classification-part-2/soil_competition-2025/test'\n"
   ]
  },
  {
   "cell_type": "code",
   "execution_count": 9,
   "metadata": {
    "execution": {
     "iopub.execute_input": "2025-05-25T17:56:24.985037Z",
     "iopub.status.busy": "2025-05-25T17:56:24.984771Z",
     "iopub.status.idle": "2025-05-25T17:56:25.008377Z",
     "shell.execute_reply": "2025-05-25T17:56:25.007848Z",
     "shell.execute_reply.started": "2025-05-25T17:56:24.985016Z"
    },
    "trusted": true
   },
   "outputs": [
    {
     "data": {
      "text/html": [
       "<div>\n",
       "<style scoped>\n",
       "    .dataframe tbody tr th:only-of-type {\n",
       "        vertical-align: middle;\n",
       "    }\n",
       "\n",
       "    .dataframe tbody tr th {\n",
       "        vertical-align: top;\n",
       "    }\n",
       "\n",
       "    .dataframe thead th {\n",
       "        text-align: right;\n",
       "    }\n",
       "</style>\n",
       "<table border=\"1\" class=\"dataframe\">\n",
       "  <thead>\n",
       "    <tr style=\"text-align: right;\">\n",
       "      <th></th>\n",
       "      <th>image_id</th>\n",
       "      <th>label</th>\n",
       "    </tr>\n",
       "  </thead>\n",
       "  <tbody>\n",
       "    <tr>\n",
       "      <th>0</th>\n",
       "      <td>img_ed005410.jpg</td>\n",
       "      <td>1</td>\n",
       "    </tr>\n",
       "    <tr>\n",
       "      <th>1</th>\n",
       "      <td>img_0c5ecd2a.jpg</td>\n",
       "      <td>1</td>\n",
       "    </tr>\n",
       "    <tr>\n",
       "      <th>2</th>\n",
       "      <td>img_ed713bb5.jpg</td>\n",
       "      <td>1</td>\n",
       "    </tr>\n",
       "    <tr>\n",
       "      <th>3</th>\n",
       "      <td>img_12c58874.jpg</td>\n",
       "      <td>1</td>\n",
       "    </tr>\n",
       "    <tr>\n",
       "      <th>4</th>\n",
       "      <td>img_eff357af.jpg</td>\n",
       "      <td>1</td>\n",
       "    </tr>\n",
       "  </tbody>\n",
       "</table>\n",
       "</div>"
      ],
      "text/plain": [
       "           image_id  label\n",
       "0  img_ed005410.jpg      1\n",
       "1  img_0c5ecd2a.jpg      1\n",
       "2  img_ed713bb5.jpg      1\n",
       "3  img_12c58874.jpg      1\n",
       "4  img_eff357af.jpg      1"
      ]
     },
     "execution_count": 9,
     "metadata": {},
     "output_type": "execute_result"
    }
   ],
   "source": [
    "train_df = pd.read_csv(train_csv)\n",
    "test_df = pd.read_csv(test_csv)\n",
    "\n",
    "train_df.head()\n"
   ]
  },
  {
   "cell_type": "code",
   "execution_count": 10,
   "metadata": {
    "execution": {
     "iopub.execute_input": "2025-05-25T17:56:32.164394Z",
     "iopub.status.busy": "2025-05-25T17:56:32.163692Z",
     "iopub.status.idle": "2025-05-25T17:56:32.168304Z",
     "shell.execute_reply": "2025-05-25T17:56:32.167587Z",
     "shell.execute_reply.started": "2025-05-25T17:56:32.164371Z"
    },
    "trusted": true
   },
   "outputs": [],
   "source": [
    "transform = transforms.Compose([\n",
    "    transforms.Resize((224, 224)),\n",
    "    transforms.ToTensor(),\n",
    "    transforms.Normalize([0.485, 0.456, 0.406],  # ImageNet mean\n",
    "                         [0.229, 0.224, 0.225])  # ImageNet std\n",
    "])\n"
   ]
  },
  {
   "cell_type": "code",
   "execution_count": 11,
   "metadata": {
    "execution": {
     "iopub.execute_input": "2025-05-25T17:56:40.609125Z",
     "iopub.status.busy": "2025-05-25T17:56:40.608370Z",
     "iopub.status.idle": "2025-05-25T17:56:40.613916Z",
     "shell.execute_reply": "2025-05-25T17:56:40.613122Z",
     "shell.execute_reply.started": "2025-05-25T17:56:40.609102Z"
    },
    "trusted": true
   },
   "outputs": [],
   "source": [
    "class SoilDataset(Dataset):\n",
    "    def __init__(self, dataframe, img_dir, transform):\n",
    "        self.df = dataframe\n",
    "        self.img_dir = img_dir\n",
    "        self.transform = transform\n",
    "\n",
    "    def __len__(self):\n",
    "        return len(self.df)\n",
    "\n",
    "    def __getitem__(self, idx):\n",
    "        image_id = self.df.iloc[idx]['image_id']\n",
    "        image_path = os.path.join(self.img_dir, image_id)\n",
    "        image = Image.open(image_path).convert(\"RGB\")\n",
    "        image = self.transform(image)\n",
    "        return image, image_id\n"
   ]
  },
  {
   "cell_type": "code",
   "execution_count": 12,
   "metadata": {
    "execution": {
     "iopub.execute_input": "2025-05-25T17:56:49.462543Z",
     "iopub.status.busy": "2025-05-25T17:56:49.461816Z",
     "iopub.status.idle": "2025-05-25T17:56:49.466670Z",
     "shell.execute_reply": "2025-05-25T17:56:49.465974Z",
     "shell.execute_reply.started": "2025-05-25T17:56:49.462515Z"
    },
    "trusted": true
   },
   "outputs": [],
   "source": [
    "train_dataset = SoilDataset(train_df, train_dir, transform)\n",
    "test_dataset = SoilDataset(test_df, test_dir, transform)\n",
    "\n",
    "train_loader = DataLoader(train_dataset, batch_size=32, shuffle=False, num_workers=2)\n",
    "test_loader = DataLoader(test_dataset, batch_size=32, shuffle=False, num_workers=2)\n"
   ]
  },
  {
   "cell_type": "code",
   "execution_count": 13,
   "metadata": {
    "execution": {
     "iopub.execute_input": "2025-05-25T17:57:05.281185Z",
     "iopub.status.busy": "2025-05-25T17:57:05.280640Z",
     "iopub.status.idle": "2025-05-25T17:57:05.695611Z",
     "shell.execute_reply": "2025-05-25T17:57:05.694978Z",
     "shell.execute_reply.started": "2025-05-25T17:57:05.281164Z"
    },
    "trusted": true
   },
   "outputs": [
    {
     "name": "stderr",
     "output_type": "stream",
     "text": [
      "/usr/local/lib/python3.11/dist-packages/torchvision/models/_utils.py:208: UserWarning: The parameter 'pretrained' is deprecated since 0.13 and may be removed in the future, please use 'weights' instead.\n",
      "  warnings.warn(\n",
      "/usr/local/lib/python3.11/dist-packages/torchvision/models/_utils.py:223: UserWarning: Arguments other than a weight enum or `None` for 'weights' are deprecated since 0.13 and may be removed in the future. The current behavior is equivalent to passing `weights=ResNet18_Weights.IMAGENET1K_V1`. You can also use `weights=ResNet18_Weights.DEFAULT` to get the most up-to-date weights.\n",
      "  warnings.warn(msg)\n"
     ]
    },
    {
     "data": {
      "text/plain": [
       "ResNet(\n",
       "  (conv1): Conv2d(3, 64, kernel_size=(7, 7), stride=(2, 2), padding=(3, 3), bias=False)\n",
       "  (bn1): BatchNorm2d(64, eps=1e-05, momentum=0.1, affine=True, track_running_stats=True)\n",
       "  (relu): ReLU(inplace=True)\n",
       "  (maxpool): MaxPool2d(kernel_size=3, stride=2, padding=1, dilation=1, ceil_mode=False)\n",
       "  (layer1): Sequential(\n",
       "    (0): BasicBlock(\n",
       "      (conv1): Conv2d(64, 64, kernel_size=(3, 3), stride=(1, 1), padding=(1, 1), bias=False)\n",
       "      (bn1): BatchNorm2d(64, eps=1e-05, momentum=0.1, affine=True, track_running_stats=True)\n",
       "      (relu): ReLU(inplace=True)\n",
       "      (conv2): Conv2d(64, 64, kernel_size=(3, 3), stride=(1, 1), padding=(1, 1), bias=False)\n",
       "      (bn2): BatchNorm2d(64, eps=1e-05, momentum=0.1, affine=True, track_running_stats=True)\n",
       "    )\n",
       "    (1): BasicBlock(\n",
       "      (conv1): Conv2d(64, 64, kernel_size=(3, 3), stride=(1, 1), padding=(1, 1), bias=False)\n",
       "      (bn1): BatchNorm2d(64, eps=1e-05, momentum=0.1, affine=True, track_running_stats=True)\n",
       "      (relu): ReLU(inplace=True)\n",
       "      (conv2): Conv2d(64, 64, kernel_size=(3, 3), stride=(1, 1), padding=(1, 1), bias=False)\n",
       "      (bn2): BatchNorm2d(64, eps=1e-05, momentum=0.1, affine=True, track_running_stats=True)\n",
       "    )\n",
       "  )\n",
       "  (layer2): Sequential(\n",
       "    (0): BasicBlock(\n",
       "      (conv1): Conv2d(64, 128, kernel_size=(3, 3), stride=(2, 2), padding=(1, 1), bias=False)\n",
       "      (bn1): BatchNorm2d(128, eps=1e-05, momentum=0.1, affine=True, track_running_stats=True)\n",
       "      (relu): ReLU(inplace=True)\n",
       "      (conv2): Conv2d(128, 128, kernel_size=(3, 3), stride=(1, 1), padding=(1, 1), bias=False)\n",
       "      (bn2): BatchNorm2d(128, eps=1e-05, momentum=0.1, affine=True, track_running_stats=True)\n",
       "      (downsample): Sequential(\n",
       "        (0): Conv2d(64, 128, kernel_size=(1, 1), stride=(2, 2), bias=False)\n",
       "        (1): BatchNorm2d(128, eps=1e-05, momentum=0.1, affine=True, track_running_stats=True)\n",
       "      )\n",
       "    )\n",
       "    (1): BasicBlock(\n",
       "      (conv1): Conv2d(128, 128, kernel_size=(3, 3), stride=(1, 1), padding=(1, 1), bias=False)\n",
       "      (bn1): BatchNorm2d(128, eps=1e-05, momentum=0.1, affine=True, track_running_stats=True)\n",
       "      (relu): ReLU(inplace=True)\n",
       "      (conv2): Conv2d(128, 128, kernel_size=(3, 3), stride=(1, 1), padding=(1, 1), bias=False)\n",
       "      (bn2): BatchNorm2d(128, eps=1e-05, momentum=0.1, affine=True, track_running_stats=True)\n",
       "    )\n",
       "  )\n",
       "  (layer3): Sequential(\n",
       "    (0): BasicBlock(\n",
       "      (conv1): Conv2d(128, 256, kernel_size=(3, 3), stride=(2, 2), padding=(1, 1), bias=False)\n",
       "      (bn1): BatchNorm2d(256, eps=1e-05, momentum=0.1, affine=True, track_running_stats=True)\n",
       "      (relu): ReLU(inplace=True)\n",
       "      (conv2): Conv2d(256, 256, kernel_size=(3, 3), stride=(1, 1), padding=(1, 1), bias=False)\n",
       "      (bn2): BatchNorm2d(256, eps=1e-05, momentum=0.1, affine=True, track_running_stats=True)\n",
       "      (downsample): Sequential(\n",
       "        (0): Conv2d(128, 256, kernel_size=(1, 1), stride=(2, 2), bias=False)\n",
       "        (1): BatchNorm2d(256, eps=1e-05, momentum=0.1, affine=True, track_running_stats=True)\n",
       "      )\n",
       "    )\n",
       "    (1): BasicBlock(\n",
       "      (conv1): Conv2d(256, 256, kernel_size=(3, 3), stride=(1, 1), padding=(1, 1), bias=False)\n",
       "      (bn1): BatchNorm2d(256, eps=1e-05, momentum=0.1, affine=True, track_running_stats=True)\n",
       "      (relu): ReLU(inplace=True)\n",
       "      (conv2): Conv2d(256, 256, kernel_size=(3, 3), stride=(1, 1), padding=(1, 1), bias=False)\n",
       "      (bn2): BatchNorm2d(256, eps=1e-05, momentum=0.1, affine=True, track_running_stats=True)\n",
       "    )\n",
       "  )\n",
       "  (layer4): Sequential(\n",
       "    (0): BasicBlock(\n",
       "      (conv1): Conv2d(256, 512, kernel_size=(3, 3), stride=(2, 2), padding=(1, 1), bias=False)\n",
       "      (bn1): BatchNorm2d(512, eps=1e-05, momentum=0.1, affine=True, track_running_stats=True)\n",
       "      (relu): ReLU(inplace=True)\n",
       "      (conv2): Conv2d(512, 512, kernel_size=(3, 3), stride=(1, 1), padding=(1, 1), bias=False)\n",
       "      (bn2): BatchNorm2d(512, eps=1e-05, momentum=0.1, affine=True, track_running_stats=True)\n",
       "      (downsample): Sequential(\n",
       "        (0): Conv2d(256, 512, kernel_size=(1, 1), stride=(2, 2), bias=False)\n",
       "        (1): BatchNorm2d(512, eps=1e-05, momentum=0.1, affine=True, track_running_stats=True)\n",
       "      )\n",
       "    )\n",
       "    (1): BasicBlock(\n",
       "      (conv1): Conv2d(512, 512, kernel_size=(3, 3), stride=(1, 1), padding=(1, 1), bias=False)\n",
       "      (bn1): BatchNorm2d(512, eps=1e-05, momentum=0.1, affine=True, track_running_stats=True)\n",
       "      (relu): ReLU(inplace=True)\n",
       "      (conv2): Conv2d(512, 512, kernel_size=(3, 3), stride=(1, 1), padding=(1, 1), bias=False)\n",
       "      (bn2): BatchNorm2d(512, eps=1e-05, momentum=0.1, affine=True, track_running_stats=True)\n",
       "    )\n",
       "  )\n",
       "  (avgpool): AdaptiveAvgPool2d(output_size=(1, 1))\n",
       "  (fc): Identity()\n",
       ")"
      ]
     },
     "execution_count": 13,
     "metadata": {},
     "output_type": "execute_result"
    }
   ],
   "source": [
    "device = torch.device(\"cuda\" if torch.cuda.is_available() else \"cpu\")\n",
    "resnet = models.resnet18(pretrained=True)\n",
    "resnet.fc = torch.nn.Identity()\n",
    "resnet = resnet.to(device)\n",
    "resnet.eval()\n"
   ]
  },
  {
   "cell_type": "code",
   "execution_count": 15,
   "metadata": {
    "execution": {
     "iopub.execute_input": "2025-05-25T17:57:29.557317Z",
     "iopub.status.busy": "2025-05-25T17:57:29.556758Z",
     "iopub.status.idle": "2025-05-25T17:57:29.561516Z",
     "shell.execute_reply": "2025-05-25T17:57:29.560773Z",
     "shell.execute_reply.started": "2025-05-25T17:57:29.557295Z"
    },
    "trusted": true
   },
   "outputs": [],
   "source": [
    "def extract_features(dataloader):\n",
    "    features = []\n",
    "    ids = []\n",
    "    with torch.no_grad():\n",
    "        for images, image_ids in tqdm(dataloader, desc=\"Extracting Features\"):\n",
    "            images = images.to(device)\n",
    "            feats = resnet(images).cpu().numpy()\n",
    "            features.append(feats)\n",
    "            ids.extend(image_ids)\n",
    "    return np.vstack(features), ids\n"
   ]
  },
  {
   "cell_type": "code",
   "execution_count": 16,
   "metadata": {
    "execution": {
     "iopub.execute_input": "2025-05-25T17:57:43.108249Z",
     "iopub.status.busy": "2025-05-25T17:57:43.107751Z",
     "iopub.status.idle": "2025-05-25T17:57:51.785551Z",
     "shell.execute_reply": "2025-05-25T17:57:51.784690Z",
     "shell.execute_reply.started": "2025-05-25T17:57:43.108226Z"
    },
    "trusted": true
   },
   "outputs": [
    {
     "name": "stderr",
     "output_type": "stream",
     "text": [
      "Extracting Features: 100%|██████████| 39/39 [00:06<00:00,  6.40it/s]\n",
      "Extracting Features: 100%|██████████| 31/31 [00:02<00:00, 12.07it/s]\n"
     ]
    },
    {
     "data": {
      "text/plain": [
       "((1222, 512), 967)"
      ]
     },
     "execution_count": 16,
     "metadata": {},
     "output_type": "execute_result"
    }
   ],
   "source": [
    "train_features, _ = extract_features(train_loader)\n",
    "test_features, test_ids = extract_features(test_loader)\n",
    "\n",
    "train_features.shape, len(test_ids)\n"
   ]
  },
  {
   "cell_type": "code",
   "execution_count": 17,
   "metadata": {
    "execution": {
     "iopub.execute_input": "2025-05-25T17:57:51.787330Z",
     "iopub.status.busy": "2025-05-25T17:57:51.787113Z",
     "iopub.status.idle": "2025-05-25T17:57:51.821335Z",
     "shell.execute_reply": "2025-05-25T17:57:51.820718Z",
     "shell.execute_reply.started": "2025-05-25T17:57:51.787309Z"
    },
    "trusted": true
   },
   "outputs": [],
   "source": [
    "scaler = StandardScaler()\n",
    "train_features = scaler.fit_transform(train_features)\n",
    "test_features = scaler.transform(test_features)\n"
   ]
  },
  {
   "cell_type": "code",
   "execution_count": 18,
   "metadata": {
    "execution": {
     "iopub.execute_input": "2025-05-25T17:58:00.325393Z",
     "iopub.status.busy": "2025-05-25T17:58:00.325088Z",
     "iopub.status.idle": "2025-05-25T17:58:01.178013Z",
     "shell.execute_reply": "2025-05-25T17:58:01.177407Z",
     "shell.execute_reply.started": "2025-05-25T17:58:00.325374Z"
    },
    "trusted": true
   },
   "outputs": [
    {
     "name": "stdout",
     "output_type": "stream",
     "text": [
      "nu=0.01 -> Recall on train: 0.9206 | False Negatives: 97\n",
      "nu=0.02 -> Recall on train: 0.9182 | False Negatives: 100\n",
      "nu=0.05 -> Recall on train: 0.8969 | False Negatives: 126\n",
      "nu=0.10 -> Recall on train: 0.8781 | False Negatives: 149\n",
      "nu=0.15 -> Recall on train: 0.8478 | False Negatives: 186\n",
      "nu=0.20 -> Recall on train: 0.7962 | False Negatives: 249\n",
      "\n",
      "🔍 Best nu: 0.01 with Recall on train: 0.9206\n"
     ]
    }
   ],
   "source": [
    "nus = [0.01, 0.02, 0.05, 0.1, 0.15, 0.2]\n",
    "best_nu = None\n",
    "best_recall = 0\n",
    "best_svm = None\n",
    "\n",
    "for nu_val in nus:\n",
    "    svm = OneClassSVM(kernel='rbf', gamma='scale', nu=nu_val)\n",
    "    svm.fit(train_features)\n",
    "\n",
    "    train_preds = svm.predict(train_features)\n",
    "    train_binary = [1 if p == 1 else 0 for p in train_preds]\n",
    "\n",
    "    true_positives = sum(train_binary)\n",
    "    false_negatives = len(train_binary) - true_positives\n",
    "    recall = true_positives / len(train_binary)\n",
    "\n",
    "    print(f\"nu={nu_val:.2f} -> Recall on train: {recall:.4f} | False Negatives: {false_negatives}\")\n",
    "\n",
    "    if recall > best_recall:\n",
    "        best_recall = recall\n",
    "        best_nu = nu_val\n",
    "        best_svm = svm\n",
    "\n",
    "print(f\"\\n🔍 Best nu: {best_nu} with Recall on train: {best_recall:.4f}\")\n"
   ]
  },
  {
   "cell_type": "code",
   "execution_count": 19,
   "metadata": {
    "execution": {
     "iopub.execute_input": "2025-05-25T17:58:11.231316Z",
     "iopub.status.busy": "2025-05-25T17:58:11.230800Z",
     "iopub.status.idle": "2025-05-25T17:58:11.281178Z",
     "shell.execute_reply": "2025-05-25T17:58:11.280673Z",
     "shell.execute_reply.started": "2025-05-25T17:58:11.231294Z"
    },
    "trusted": true
   },
   "outputs": [],
   "source": [
    "svm_preds = best_svm.predict(test_features)\n",
    "binary_preds = [1 if p == 1 else 0 for p in svm_preds]\n"
   ]
  },
  {
   "cell_type": "code",
   "execution_count": 20,
   "metadata": {
    "execution": {
     "iopub.execute_input": "2025-05-25T17:58:18.545611Z",
     "iopub.status.busy": "2025-05-25T17:58:18.544917Z",
     "iopub.status.idle": "2025-05-25T17:58:18.554265Z",
     "shell.execute_reply": "2025-05-25T17:58:18.553585Z",
     "shell.execute_reply.started": "2025-05-25T17:58:18.545589Z"
    },
    "trusted": true
   },
   "outputs": [
    {
     "name": "stdout",
     "output_type": "stream",
     "text": [
      "✅ Submission saved as 'submission.csv'\n"
     ]
    }
   ],
   "source": [
    "submission = pd.DataFrame({\n",
    "    'image_id': test_ids,\n",
    "    'label': binary_preds\n",
    "})\n",
    "submission.to_csv('submission.csv', index=False)\n",
    "print(\"✅ Submission saved as 'submission.csv'\")\n"
   ]
  },
  {
   "cell_type": "code",
   "execution_count": 21,
   "metadata": {
    "execution": {
     "iopub.execute_input": "2025-05-25T17:58:46.584367Z",
     "iopub.status.busy": "2025-05-25T17:58:46.583779Z",
     "iopub.status.idle": "2025-05-25T17:58:46.702375Z",
     "shell.execute_reply": "2025-05-25T17:58:46.701745Z",
     "shell.execute_reply.started": "2025-05-25T17:58:46.584346Z"
    },
    "trusted": true
   },
   "outputs": [
    {
     "name": "stdout",
     "output_type": "stream",
     "text": [
      "Recall on train data (should be close to 1): 0.7962\n",
      "False Negatives on train: 249 out of 1222\n",
      "Accuracy on train (same as recall here): 0.7962\n"
     ]
    }
   ],
   "source": [
    "# Predict on train features themselves\n",
    "train_preds_raw = svm.predict(train_features)\n",
    "train_preds = np.array([1 if p == 1 else 0 for p in train_preds_raw])\n",
    "\n",
    "# Since train labels are all 1s (all positives)\n",
    "train_labels = np.ones(len(train_preds))\n",
    "\n",
    "from sklearn.metrics import recall_score\n",
    "\n",
    "recall = recall_score(train_labels, train_preds)\n",
    "print(f\"Recall on train data (should be close to 1): {recall:.4f}\")\n",
    "\n",
    "fn_count = sum(train_preds == 0)\n",
    "print(f\"False Negatives on train: {fn_count} out of {len(train_preds)}\")\n",
    "\n",
    "accuracy = np.mean(train_preds == train_labels)\n",
    "print(f\"Accuracy on train (same as recall here): {accuracy:.4f}\")\n"
   ]
  },
  {
   "cell_type": "code",
   "execution_count": 22,
   "metadata": {
    "execution": {
     "iopub.execute_input": "2025-05-25T17:58:54.400699Z",
     "iopub.status.busy": "2025-05-25T17:58:54.399996Z",
     "iopub.status.idle": "2025-05-25T17:58:54.738288Z",
     "shell.execute_reply": "2025-05-25T17:58:54.737619Z",
     "shell.execute_reply.started": "2025-05-25T17:58:54.400677Z"
    },
    "trusted": true
   },
   "outputs": [
    {
     "name": "stderr",
     "output_type": "stream",
     "text": [
      "/usr/local/lib/python3.11/dist-packages/IPython/core/pylabtools.py:151: UserWarning: Glyph 128202 (\\N{BAR CHART}) missing from current font.\n",
      "  fig.canvas.print_figure(bytes_io, **kw)\n"
     ]
    },
    {
     "data": {
      "image/png": "[encoded data removed]",
      "text/plain": [
       "<Figure size 1000x600 with 1 Axes>"
      ]
     },
     "metadata": {},
     "output_type": "display_data"
    },
    {
     "name": "stderr",
     "output_type": "stream",
     "text": [
      "/usr/local/lib/python3.11/dist-packages/IPython/core/pylabtools.py:151: UserWarning: Glyph 10060 (\\N{CROSS MARK}) missing from current font.\n",
      "  fig.canvas.print_figure(bytes_io, **kw)\n"
     ]
    },
    {
     "data": {
      "image/png": "[encoded data removed]",
      "text/plain": [
       "<Figure size 1000x600 with 1 Axes>"
      ]
     },
     "metadata": {},
     "output_type": "display_data"
    }
   ],
   "source": [
    "import matplotlib.pyplot as plt\n",
    "\n",
    "# Nu values and corresponding recall from your output\n",
    "nu_values = [0.01, 0.02, 0.05, 0.10, 0.15, 0.20]\n",
    "recalls =     [0.9206, 0.9182, 0.8969, 0.8789, 0.8494, 0.7962]\n",
    "false_negs =  [97, 100, 126, 148, 184, 249]\n",
    "\n",
    "# 📈 Plot Recall vs Nu\n",
    "plt.figure(figsize=(10, 6))\n",
    "plt.plot(nu_values, recalls, marker='o', color='green', label='Recall')\n",
    "plt.title(\"📊 Recall vs Nu (One-Class SVM)\", fontsize=14)\n",
    "plt.xlabel(\"Nu value\")\n",
    "plt.ylabel(\"Recall\")\n",
    "plt.grid(True)\n",
    "plt.xticks(nu_values)\n",
    "plt.ylim(0.75, 0.95)\n",
    "plt.legend()\n",
    "plt.show()\n",
    "\n",
    "# 📉 Plot False Negatives vs Nu\n",
    "plt.figure(figsize=(10, 6))\n",
    "plt.plot(nu_values, false_negs, marker='s', color='red', label='False Negatives')\n",
    "plt.title(\"❌ False Negatives vs Nu (One-Class SVM)\", fontsize=14)\n",
    "plt.xlabel(\"Nu value\")\n",
    "plt.ylabel(\"False Negatives\")\n",
    "plt.grid(True)\n",
    "plt.xticks(nu_values)\n",
    "plt.legend()\n",
    "plt.show()\n"
   ]
  },
  {
   "cell_type": "code",
   "execution_count": null,
   "metadata": {},
   "outputs": [],
   "source": [
    "\n",
    "# Save metrics\n",
    "import json\n",
    "\n",
    "metrics = {\n",
    "    \"task\": \"One-Class Soil Detection\",\n",
    "    \"approach\": \"Anomaly Detection using ResNet18 + One-Class SVM\",\n",
    "    \"model\": {\n",
    "        \"feature_extractor\": \"ResNet18 (ImageNet pretrained)\",\n",
    "        \"anomaly_model\": \"OneClassSVM (RBF kernel)\",\n",
    "        \"feature_dim\": int(train_features.shape[1]),\n",
    "        \"nu\": 0.1,\n",
    "        \"scaler\": \"StandardScaler (mean=0, std=1)\",\n",
    "        \"training_samples\": len(train_labels)\n",
    "    },\n",
    "    \"training_data_used\": \"Only positive class (soil images)\",\n",
    "    \"testing_goal\": \"Identify non-soil images as outliers\",\n",
    "    \"evaluation\": {\n",
    "        \"recall_on_soil_train\": recall,\n",
    "        \"false_negatives_estimate\": false_negatives,\n",
    "        \"recall_percent\": round(recall * 100, 2)\n",
    "    },\n",
    "   \n",
    "    \n",
    "    \"team_info\": {\n",
    "        \"name\": \"Sanskar Khandelwal\",\n",
    "        \"kaggle_username\": \"sankhuz\",\n",
    "        \"team\": \"TheLastTransformer\"\n",
    "    },\n",
    "    \"files\": {\n",
    "        \"train_features\": \"train_features.npy\",\n",
    "        \"test_features\": \"test_features.npy\",\n",
    "        \"test_ids\": \"test_ids.npy\",\n",
    "        \"metrics_file\": \"metrics.json\"\n",
    "    },\n",
    "    \"notes\": \"Model trained only on positive samples. No non-soil training data used.\"\n",
    "}\n",
    "\n",
    "# Save to file\n",
    "with open(\"metrics.json\", \"w\") as f:\n",
    "    json.dump(metrics, f, indent=4)\n",
    "\n",
    "print(\"✅ Improved metrics.json saved.\")\n",
    "\n",
    "with open(\"metrics.json\", \"w\") as f:\n",
    "    json.dump(metrics, f, indent=4)\n",
    "\n",
    "print(\"✅ metrics.json saved.\")"
   ]
  },
  {
   "cell_type": "code",
   "execution_count": null,
   "metadata": {
    "trusted": true
   },
   "outputs": [],
   "source": []
  },
  {
   "cell_type": "code",
   "execution_count": null,
   "metadata": {
    "trusted": true
   },
   "outputs": [],
   "source": []
  },
  {
   "cell_type": "code",
   "execution_count": null,
   "metadata": {
    "trusted": true
   },
   "outputs": [],
   "source": []
  }
 ],
 "metadata": {
  "kaggle": {
   "accelerator": "gpu",
   "dataSources": [
    {
     "databundleVersionId": 12412856,
     "sourceId": 102966,
     "sourceType": "competition"
    }
   ],
   "dockerImageVersionId": 31041,
   "isGpuEnabled": true,
   "isInternetEnabled": true,
   "language": "python",
   "sourceType": "notebook"
  },
  "kernelspec": {
   "display_name": "Python 3",
   "language": "python",
   "name": "python3"
  },
  "language_info": {
   "codemirror_mode": {
    "name": "ipython",
    "version": 3
   },
   "file_extension": ".py",
   "mimetype": "text/x-python",
   "name": "python",
   "nbconvert_exporter": "python",
   "pygments_lexer": "ipython3",
   "version": "3.11.11"
  }
 },
 "nbformat": 4,
 "nbformat_minor": 4
}
